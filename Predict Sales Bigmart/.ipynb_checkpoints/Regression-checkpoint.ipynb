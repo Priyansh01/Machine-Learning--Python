{
 "cells": [
  {
   "cell_type": "code",
   "execution_count": 4,
   "metadata": {},
   "outputs": [],
   "source": [
    "import pandas as pd\n",
    "import numpy as np\n",
    "%matplotlib inline\n",
    "import matplotlib.pyplot as plt\n",
    "from sklearn.utils import shuffle"
   ]
  },
  {
   "cell_type": "code",
   "execution_count": 5,
   "metadata": {},
   "outputs": [],
   "source": [
    "train=pd.read_csv('train.csv',index_col='ID')\n",
    "test=pd.read_csv('test.csv',index_col='ID')"
   ]
  },
  {
   "cell_type": "code",
   "execution_count": 6,
   "metadata": {},
   "outputs": [],
   "source": [
    "train_shape=train.shape[0]\n",
    "test_shape=test.shape[0]"
   ]
  },
  {
   "cell_type": "code",
   "execution_count": 7,
   "metadata": {},
   "outputs": [],
   "source": [
    "train=shuffle(train)"
   ]
  },
  {
   "cell_type": "code",
   "execution_count": 8,
   "metadata": {},
   "outputs": [
    {
     "data": {
      "text/plain": [
       "Index(['Item_Weight', 'Item_Fat_Content', 'Item_Visibility', 'Item_Type',\n",
       "       'Item_MRP', 'Outlet_Establishment_Year', 'Outlet_Size',\n",
       "       'Outlet_Location_Type', 'Outlet_Type', 'Item_Outlet_Sales'],\n",
       "      dtype='object')"
      ]
     },
     "execution_count": 8,
     "metadata": {},
     "output_type": "execute_result"
    }
   ],
   "source": [
    "train.columns"
   ]
  },
  {
   "cell_type": "code",
   "execution_count": 9,
   "metadata": {},
   "outputs": [
    {
     "data": {
      "text/html": [
       "<div>\n",
       "<style scoped>\n",
       "    .dataframe tbody tr th:only-of-type {\n",
       "        vertical-align: middle;\n",
       "    }\n",
       "\n",
       "    .dataframe tbody tr th {\n",
       "        vertical-align: top;\n",
       "    }\n",
       "\n",
       "    .dataframe thead th {\n",
       "        text-align: right;\n",
       "    }\n",
       "</style>\n",
       "<table border=\"1\" class=\"dataframe\">\n",
       "  <thead>\n",
       "    <tr style=\"text-align: right;\">\n",
       "      <th></th>\n",
       "      <th>Item_Weight</th>\n",
       "      <th>Item_Fat_Content</th>\n",
       "      <th>Item_Visibility</th>\n",
       "      <th>Item_Type</th>\n",
       "      <th>Item_MRP</th>\n",
       "      <th>Outlet_Establishment_Year</th>\n",
       "      <th>Outlet_Size</th>\n",
       "      <th>Outlet_Location_Type</th>\n",
       "      <th>Outlet_Type</th>\n",
       "      <th>Item_Outlet_Sales</th>\n",
       "    </tr>\n",
       "    <tr>\n",
       "      <th>ID</th>\n",
       "      <th></th>\n",
       "      <th></th>\n",
       "      <th></th>\n",
       "      <th></th>\n",
       "      <th></th>\n",
       "      <th></th>\n",
       "      <th></th>\n",
       "      <th></th>\n",
       "      <th></th>\n",
       "      <th></th>\n",
       "    </tr>\n",
       "  </thead>\n",
       "  <tbody>\n",
       "    <tr>\n",
       "      <th>FDO23OUT013</th>\n",
       "      <td>17.85</td>\n",
       "      <td>Low Fat</td>\n",
       "      <td>0.146305</td>\n",
       "      <td>Breads</td>\n",
       "      <td>94.1436</td>\n",
       "      <td>1987</td>\n",
       "      <td>High</td>\n",
       "      <td>Tier 3</td>\n",
       "      <td>Supermarket Type1</td>\n",
       "      <td>1607.2412</td>\n",
       "    </tr>\n",
       "    <tr>\n",
       "      <th>FDF16OUT013</th>\n",
       "      <td>7.30</td>\n",
       "      <td>Low Fat</td>\n",
       "      <td>0.086061</td>\n",
       "      <td>Frozen Foods</td>\n",
       "      <td>149.8076</td>\n",
       "      <td>1987</td>\n",
       "      <td>High</td>\n",
       "      <td>Tier 3</td>\n",
       "      <td>Supermarket Type1</td>\n",
       "      <td>2808.3444</td>\n",
       "    </tr>\n",
       "    <tr>\n",
       "      <th>FDR49OUT018</th>\n",
       "      <td>8.71</td>\n",
       "      <td>Low Fat</td>\n",
       "      <td>0.139796</td>\n",
       "      <td>Canned</td>\n",
       "      <td>47.2376</td>\n",
       "      <td>2009</td>\n",
       "      <td>Medium</td>\n",
       "      <td>Tier 3</td>\n",
       "      <td>Supermarket Type2</td>\n",
       "      <td>910.8144</td>\n",
       "    </tr>\n",
       "    <tr>\n",
       "      <th>DRL47OUT049</th>\n",
       "      <td>19.70</td>\n",
       "      <td>Low Fat</td>\n",
       "      <td>0.000000</td>\n",
       "      <td>Hard Drinks</td>\n",
       "      <td>125.9362</td>\n",
       "      <td>1999</td>\n",
       "      <td>Medium</td>\n",
       "      <td>Tier 1</td>\n",
       "      <td>Supermarket Type1</td>\n",
       "      <td>1635.8706</td>\n",
       "    </tr>\n",
       "    <tr>\n",
       "      <th>NCB54OUT049</th>\n",
       "      <td>8.76</td>\n",
       "      <td>Low Fat</td>\n",
       "      <td>0.050131</td>\n",
       "      <td>Health and Hygiene</td>\n",
       "      <td>128.3336</td>\n",
       "      <td>1999</td>\n",
       "      <td>Medium</td>\n",
       "      <td>Tier 1</td>\n",
       "      <td>Supermarket Type1</td>\n",
       "      <td>2556.6720</td>\n",
       "    </tr>\n",
       "  </tbody>\n",
       "</table>\n",
       "</div>"
      ],
      "text/plain": [
       "             Item_Weight Item_Fat_Content  Item_Visibility  \\\n",
       "ID                                                           \n",
       "FDO23OUT013        17.85          Low Fat         0.146305   \n",
       "FDF16OUT013         7.30          Low Fat         0.086061   \n",
       "FDR49OUT018         8.71          Low Fat         0.139796   \n",
       "DRL47OUT049        19.70          Low Fat         0.000000   \n",
       "NCB54OUT049         8.76          Low Fat         0.050131   \n",
       "\n",
       "                      Item_Type  Item_MRP  Outlet_Establishment_Year  \\\n",
       "ID                                                                     \n",
       "FDO23OUT013              Breads   94.1436                       1987   \n",
       "FDF16OUT013        Frozen Foods  149.8076                       1987   \n",
       "FDR49OUT018              Canned   47.2376                       2009   \n",
       "DRL47OUT049         Hard Drinks  125.9362                       1999   \n",
       "NCB54OUT049  Health and Hygiene  128.3336                       1999   \n",
       "\n",
       "            Outlet_Size Outlet_Location_Type        Outlet_Type  \\\n",
       "ID                                                                \n",
       "FDO23OUT013        High               Tier 3  Supermarket Type1   \n",
       "FDF16OUT013        High               Tier 3  Supermarket Type1   \n",
       "FDR49OUT018      Medium               Tier 3  Supermarket Type2   \n",
       "DRL47OUT049      Medium               Tier 1  Supermarket Type1   \n",
       "NCB54OUT049      Medium               Tier 1  Supermarket Type1   \n",
       "\n",
       "             Item_Outlet_Sales  \n",
       "ID                              \n",
       "FDO23OUT013          1607.2412  \n",
       "FDF16OUT013          2808.3444  \n",
       "FDR49OUT018           910.8144  \n",
       "DRL47OUT049          1635.8706  \n",
       "NCB54OUT049          2556.6720  "
      ]
     },
     "execution_count": 9,
     "metadata": {},
     "output_type": "execute_result"
    }
   ],
   "source": [
    "train.head()"
   ]
  },
  {
   "cell_type": "code",
   "execution_count": 10,
   "metadata": {},
   "outputs": [
    {
     "data": {
      "text/html": [
       "<div>\n",
       "<style scoped>\n",
       "    .dataframe tbody tr th:only-of-type {\n",
       "        vertical-align: middle;\n",
       "    }\n",
       "\n",
       "    .dataframe tbody tr th {\n",
       "        vertical-align: top;\n",
       "    }\n",
       "\n",
       "    .dataframe thead th {\n",
       "        text-align: right;\n",
       "    }\n",
       "</style>\n",
       "<table border=\"1\" class=\"dataframe\">\n",
       "  <thead>\n",
       "    <tr style=\"text-align: right;\">\n",
       "      <th></th>\n",
       "      <th>Item_Weight</th>\n",
       "      <th>Item_Fat_Content</th>\n",
       "      <th>Item_Visibility</th>\n",
       "      <th>Item_Type</th>\n",
       "      <th>Item_MRP</th>\n",
       "      <th>Outlet_Establishment_Year</th>\n",
       "      <th>Outlet_Size</th>\n",
       "      <th>Outlet_Location_Type</th>\n",
       "      <th>Outlet_Type</th>\n",
       "    </tr>\n",
       "    <tr>\n",
       "      <th>ID</th>\n",
       "      <th></th>\n",
       "      <th></th>\n",
       "      <th></th>\n",
       "      <th></th>\n",
       "      <th></th>\n",
       "      <th></th>\n",
       "      <th></th>\n",
       "      <th></th>\n",
       "      <th></th>\n",
       "    </tr>\n",
       "  </thead>\n",
       "  <tbody>\n",
       "    <tr>\n",
       "      <th>FDW58OUT049</th>\n",
       "      <td>20.750</td>\n",
       "      <td>Low Fat</td>\n",
       "      <td>0.007565</td>\n",
       "      <td>Snack Foods</td>\n",
       "      <td>107.8622</td>\n",
       "      <td>1999</td>\n",
       "      <td>Medium</td>\n",
       "      <td>Tier 1</td>\n",
       "      <td>Supermarket Type1</td>\n",
       "    </tr>\n",
       "    <tr>\n",
       "      <th>FDW14OUT017</th>\n",
       "      <td>8.300</td>\n",
       "      <td>reg</td>\n",
       "      <td>0.038428</td>\n",
       "      <td>Dairy</td>\n",
       "      <td>87.3198</td>\n",
       "      <td>2007</td>\n",
       "      <td>NaN</td>\n",
       "      <td>Tier 2</td>\n",
       "      <td>Supermarket Type1</td>\n",
       "    </tr>\n",
       "    <tr>\n",
       "      <th>NCN55OUT010</th>\n",
       "      <td>14.600</td>\n",
       "      <td>Low Fat</td>\n",
       "      <td>0.099575</td>\n",
       "      <td>Others</td>\n",
       "      <td>241.7538</td>\n",
       "      <td>1998</td>\n",
       "      <td>NaN</td>\n",
       "      <td>Tier 3</td>\n",
       "      <td>Grocery Store</td>\n",
       "    </tr>\n",
       "    <tr>\n",
       "      <th>FDQ58OUT017</th>\n",
       "      <td>7.315</td>\n",
       "      <td>Low Fat</td>\n",
       "      <td>0.015388</td>\n",
       "      <td>Snack Foods</td>\n",
       "      <td>155.0340</td>\n",
       "      <td>2007</td>\n",
       "      <td>NaN</td>\n",
       "      <td>Tier 2</td>\n",
       "      <td>Supermarket Type1</td>\n",
       "    </tr>\n",
       "    <tr>\n",
       "      <th>FDY38OUT027</th>\n",
       "      <td>NaN</td>\n",
       "      <td>Regular</td>\n",
       "      <td>0.118599</td>\n",
       "      <td>Dairy</td>\n",
       "      <td>234.2300</td>\n",
       "      <td>1985</td>\n",
       "      <td>Medium</td>\n",
       "      <td>Tier 3</td>\n",
       "      <td>Supermarket Type3</td>\n",
       "    </tr>\n",
       "  </tbody>\n",
       "</table>\n",
       "</div>"
      ],
      "text/plain": [
       "             Item_Weight Item_Fat_Content  Item_Visibility    Item_Type  \\\n",
       "ID                                                                        \n",
       "FDW58OUT049       20.750          Low Fat         0.007565  Snack Foods   \n",
       "FDW14OUT017        8.300              reg         0.038428        Dairy   \n",
       "NCN55OUT010       14.600          Low Fat         0.099575       Others   \n",
       "FDQ58OUT017        7.315          Low Fat         0.015388  Snack Foods   \n",
       "FDY38OUT027          NaN          Regular         0.118599        Dairy   \n",
       "\n",
       "             Item_MRP  Outlet_Establishment_Year Outlet_Size  \\\n",
       "ID                                                             \n",
       "FDW58OUT049  107.8622                       1999      Medium   \n",
       "FDW14OUT017   87.3198                       2007         NaN   \n",
       "NCN55OUT010  241.7538                       1998         NaN   \n",
       "FDQ58OUT017  155.0340                       2007         NaN   \n",
       "FDY38OUT027  234.2300                       1985      Medium   \n",
       "\n",
       "            Outlet_Location_Type        Outlet_Type  \n",
       "ID                                                   \n",
       "FDW58OUT049               Tier 1  Supermarket Type1  \n",
       "FDW14OUT017               Tier 2  Supermarket Type1  \n",
       "NCN55OUT010               Tier 3      Grocery Store  \n",
       "FDQ58OUT017               Tier 2  Supermarket Type1  \n",
       "FDY38OUT027               Tier 3  Supermarket Type3  "
      ]
     },
     "execution_count": 10,
     "metadata": {},
     "output_type": "execute_result"
    }
   ],
   "source": [
    "test.head()"
   ]
  },
  {
   "cell_type": "code",
   "execution_count": 11,
   "metadata": {},
   "outputs": [
    {
     "data": {
      "text/plain": [
       "Low Fat    5089\n",
       "Regular    2889\n",
       "LF          316\n",
       "reg         117\n",
       "low fat     112\n",
       "Name: Item_Fat_Content, dtype: int64"
      ]
     },
     "execution_count": 11,
     "metadata": {},
     "output_type": "execute_result"
    }
   ],
   "source": [
    "train['Item_Fat_Content'].value_counts()"
   ]
  },
  {
   "cell_type": "code",
   "execution_count": 12,
   "metadata": {},
   "outputs": [
    {
     "data": {
      "text/plain": [
       "Fruits and Vegetables    1232\n",
       "Snack Foods              1200\n",
       "Household                 910\n",
       "Frozen Foods              856\n",
       "Dairy                     682\n",
       "Canned                    649\n",
       "Baking Goods              648\n",
       "Health and Hygiene        520\n",
       "Soft Drinks               445\n",
       "Meat                      425\n",
       "Breads                    251\n",
       "Hard Drinks               214\n",
       "Others                    169\n",
       "Starchy Foods             148\n",
       "Breakfast                 110\n",
       "Seafood                    64\n",
       "Name: Item_Type, dtype: int64"
      ]
     },
     "execution_count": 12,
     "metadata": {},
     "output_type": "execute_result"
    }
   ],
   "source": [
    "train['Item_Type'].value_counts()"
   ]
  },
  {
   "cell_type": "code",
   "execution_count": 13,
   "metadata": {},
   "outputs": [
    {
     "data": {
      "text/plain": [
       "Medium    2793\n",
       "Small     2388\n",
       "High       932\n",
       "Name: Outlet_Size, dtype: int64"
      ]
     },
     "execution_count": 13,
     "metadata": {},
     "output_type": "execute_result"
    }
   ],
   "source": [
    "train['Outlet_Size'].value_counts()"
   ]
  },
  {
   "cell_type": "code",
   "execution_count": 14,
   "metadata": {},
   "outputs": [
    {
     "data": {
      "text/plain": [
       "Tier 3    3350\n",
       "Tier 2    2785\n",
       "Tier 1    2388\n",
       "Name: Outlet_Location_Type, dtype: int64"
      ]
     },
     "execution_count": 14,
     "metadata": {},
     "output_type": "execute_result"
    }
   ],
   "source": [
    "train['Outlet_Location_Type'].value_counts()"
   ]
  },
  {
   "cell_type": "code",
   "execution_count": 15,
   "metadata": {},
   "outputs": [
    {
     "data": {
      "text/plain": [
       "Supermarket Type1    5577\n",
       "Grocery Store        1083\n",
       "Supermarket Type3     935\n",
       "Supermarket Type2     928\n",
       "Name: Outlet_Type, dtype: int64"
      ]
     },
     "execution_count": 15,
     "metadata": {},
     "output_type": "execute_result"
    }
   ],
   "source": [
    "train['Outlet_Type'].value_counts()"
   ]
  },
  {
   "cell_type": "code",
   "execution_count": 17,
   "metadata": {},
   "outputs": [],
   "source": [
    "i_type = test['Item_Type']"
   ]
  },
  {
   "cell_type": "code",
   "execution_count": 18,
   "metadata": {},
   "outputs": [],
   "source": [
    "cleanup_nums={'Item_Fat_Content':{'Low Fat':0,'Regular':1,'LF': 2,'reg':3,'low fat':4},'Item_Type':{'Fruits and Vegetables':1,'Snack Foods':2\n",
    ",'Household':3,'Frozen Foods':4,'Dairy':5,'Canned':6,'Baking Goods':7,'Health and Hygiene':8,'Soft Drinks':9,'Meat':10,'Breads':11,'Hard Drinks':12,\n",
    "'Others':0,'Starchy Foods':13 ,'Breakfast':14 ,'Seafood':15 },'Outlet_Size':{'Medium':1,'Small':0,'High':2},'Outlet_Location_Type':{'Tier 3':2\n",
    ",'Tier 2':1,'Tier 1':0},'Outlet_Type':{'Supermarket Type1':1,'Grocery Store':0,'Supermarket Type3':3,'Supermarket Type2':2}}"
   ]
  },
  {
   "cell_type": "code",
   "execution_count": 19,
   "metadata": {},
   "outputs": [],
   "source": [
    "train.replace(cleanup_nums, inplace=True)"
   ]
  },
  {
   "cell_type": "code",
   "execution_count": 20,
   "metadata": {},
   "outputs": [],
   "source": [
    "test.replace(cleanup_nums, inplace=True)"
   ]
  },
  {
   "cell_type": "code",
   "execution_count": 21,
   "metadata": {},
   "outputs": [
    {
     "data": {
      "text/html": [
       "<div>\n",
       "<style scoped>\n",
       "    .dataframe tbody tr th:only-of-type {\n",
       "        vertical-align: middle;\n",
       "    }\n",
       "\n",
       "    .dataframe tbody tr th {\n",
       "        vertical-align: top;\n",
       "    }\n",
       "\n",
       "    .dataframe thead th {\n",
       "        text-align: right;\n",
       "    }\n",
       "</style>\n",
       "<table border=\"1\" class=\"dataframe\">\n",
       "  <thead>\n",
       "    <tr style=\"text-align: right;\">\n",
       "      <th></th>\n",
       "      <th>Item_Weight</th>\n",
       "      <th>Item_Fat_Content</th>\n",
       "      <th>Item_Visibility</th>\n",
       "      <th>Item_Type</th>\n",
       "      <th>Item_MRP</th>\n",
       "      <th>Outlet_Establishment_Year</th>\n",
       "      <th>Outlet_Size</th>\n",
       "      <th>Outlet_Location_Type</th>\n",
       "      <th>Outlet_Type</th>\n",
       "      <th>Item_Outlet_Sales</th>\n",
       "    </tr>\n",
       "    <tr>\n",
       "      <th>ID</th>\n",
       "      <th></th>\n",
       "      <th></th>\n",
       "      <th></th>\n",
       "      <th></th>\n",
       "      <th></th>\n",
       "      <th></th>\n",
       "      <th></th>\n",
       "      <th></th>\n",
       "      <th></th>\n",
       "      <th></th>\n",
       "    </tr>\n",
       "  </thead>\n",
       "  <tbody>\n",
       "    <tr>\n",
       "      <th>FDO23OUT013</th>\n",
       "      <td>17.85</td>\n",
       "      <td>0</td>\n",
       "      <td>0.146305</td>\n",
       "      <td>11</td>\n",
       "      <td>94.1436</td>\n",
       "      <td>1987</td>\n",
       "      <td>2.0</td>\n",
       "      <td>2</td>\n",
       "      <td>1</td>\n",
       "      <td>1607.2412</td>\n",
       "    </tr>\n",
       "    <tr>\n",
       "      <th>FDF16OUT013</th>\n",
       "      <td>7.30</td>\n",
       "      <td>0</td>\n",
       "      <td>0.086061</td>\n",
       "      <td>4</td>\n",
       "      <td>149.8076</td>\n",
       "      <td>1987</td>\n",
       "      <td>2.0</td>\n",
       "      <td>2</td>\n",
       "      <td>1</td>\n",
       "      <td>2808.3444</td>\n",
       "    </tr>\n",
       "    <tr>\n",
       "      <th>FDR49OUT018</th>\n",
       "      <td>8.71</td>\n",
       "      <td>0</td>\n",
       "      <td>0.139796</td>\n",
       "      <td>6</td>\n",
       "      <td>47.2376</td>\n",
       "      <td>2009</td>\n",
       "      <td>1.0</td>\n",
       "      <td>2</td>\n",
       "      <td>2</td>\n",
       "      <td>910.8144</td>\n",
       "    </tr>\n",
       "    <tr>\n",
       "      <th>DRL47OUT049</th>\n",
       "      <td>19.70</td>\n",
       "      <td>0</td>\n",
       "      <td>0.000000</td>\n",
       "      <td>12</td>\n",
       "      <td>125.9362</td>\n",
       "      <td>1999</td>\n",
       "      <td>1.0</td>\n",
       "      <td>0</td>\n",
       "      <td>1</td>\n",
       "      <td>1635.8706</td>\n",
       "    </tr>\n",
       "    <tr>\n",
       "      <th>NCB54OUT049</th>\n",
       "      <td>8.76</td>\n",
       "      <td>0</td>\n",
       "      <td>0.050131</td>\n",
       "      <td>8</td>\n",
       "      <td>128.3336</td>\n",
       "      <td>1999</td>\n",
       "      <td>1.0</td>\n",
       "      <td>0</td>\n",
       "      <td>1</td>\n",
       "      <td>2556.6720</td>\n",
       "    </tr>\n",
       "  </tbody>\n",
       "</table>\n",
       "</div>"
      ],
      "text/plain": [
       "             Item_Weight  Item_Fat_Content  Item_Visibility  Item_Type  \\\n",
       "ID                                                                       \n",
       "FDO23OUT013        17.85                 0         0.146305         11   \n",
       "FDF16OUT013         7.30                 0         0.086061          4   \n",
       "FDR49OUT018         8.71                 0         0.139796          6   \n",
       "DRL47OUT049        19.70                 0         0.000000         12   \n",
       "NCB54OUT049         8.76                 0         0.050131          8   \n",
       "\n",
       "             Item_MRP  Outlet_Establishment_Year  Outlet_Size  \\\n",
       "ID                                                              \n",
       "FDO23OUT013   94.1436                       1987          2.0   \n",
       "FDF16OUT013  149.8076                       1987          2.0   \n",
       "FDR49OUT018   47.2376                       2009          1.0   \n",
       "DRL47OUT049  125.9362                       1999          1.0   \n",
       "NCB54OUT049  128.3336                       1999          1.0   \n",
       "\n",
       "             Outlet_Location_Type  Outlet_Type  Item_Outlet_Sales  \n",
       "ID                                                                 \n",
       "FDO23OUT013                     2            1          1607.2412  \n",
       "FDF16OUT013                     2            1          2808.3444  \n",
       "FDR49OUT018                     2            2           910.8144  \n",
       "DRL47OUT049                     0            1          1635.8706  \n",
       "NCB54OUT049                     0            1          2556.6720  "
      ]
     },
     "execution_count": 21,
     "metadata": {},
     "output_type": "execute_result"
    }
   ],
   "source": [
    "train.head()"
   ]
  },
  {
   "cell_type": "code",
   "execution_count": 22,
   "metadata": {},
   "outputs": [
    {
     "data": {
      "text/html": [
       "<div>\n",
       "<style scoped>\n",
       "    .dataframe tbody tr th:only-of-type {\n",
       "        vertical-align: middle;\n",
       "    }\n",
       "\n",
       "    .dataframe tbody tr th {\n",
       "        vertical-align: top;\n",
       "    }\n",
       "\n",
       "    .dataframe thead th {\n",
       "        text-align: right;\n",
       "    }\n",
       "</style>\n",
       "<table border=\"1\" class=\"dataframe\">\n",
       "  <thead>\n",
       "    <tr style=\"text-align: right;\">\n",
       "      <th></th>\n",
       "      <th>Item_Weight</th>\n",
       "      <th>Item_Fat_Content</th>\n",
       "      <th>Item_Visibility</th>\n",
       "      <th>Item_Type</th>\n",
       "      <th>Item_MRP</th>\n",
       "      <th>Outlet_Establishment_Year</th>\n",
       "      <th>Outlet_Size</th>\n",
       "      <th>Outlet_Location_Type</th>\n",
       "      <th>Outlet_Type</th>\n",
       "    </tr>\n",
       "    <tr>\n",
       "      <th>ID</th>\n",
       "      <th></th>\n",
       "      <th></th>\n",
       "      <th></th>\n",
       "      <th></th>\n",
       "      <th></th>\n",
       "      <th></th>\n",
       "      <th></th>\n",
       "      <th></th>\n",
       "      <th></th>\n",
       "    </tr>\n",
       "  </thead>\n",
       "  <tbody>\n",
       "    <tr>\n",
       "      <th>FDW58OUT049</th>\n",
       "      <td>20.750</td>\n",
       "      <td>0</td>\n",
       "      <td>0.007565</td>\n",
       "      <td>2</td>\n",
       "      <td>107.8622</td>\n",
       "      <td>1999</td>\n",
       "      <td>1.0</td>\n",
       "      <td>0</td>\n",
       "      <td>1</td>\n",
       "    </tr>\n",
       "    <tr>\n",
       "      <th>FDW14OUT017</th>\n",
       "      <td>8.300</td>\n",
       "      <td>3</td>\n",
       "      <td>0.038428</td>\n",
       "      <td>5</td>\n",
       "      <td>87.3198</td>\n",
       "      <td>2007</td>\n",
       "      <td>NaN</td>\n",
       "      <td>1</td>\n",
       "      <td>1</td>\n",
       "    </tr>\n",
       "    <tr>\n",
       "      <th>NCN55OUT010</th>\n",
       "      <td>14.600</td>\n",
       "      <td>0</td>\n",
       "      <td>0.099575</td>\n",
       "      <td>0</td>\n",
       "      <td>241.7538</td>\n",
       "      <td>1998</td>\n",
       "      <td>NaN</td>\n",
       "      <td>2</td>\n",
       "      <td>0</td>\n",
       "    </tr>\n",
       "    <tr>\n",
       "      <th>FDQ58OUT017</th>\n",
       "      <td>7.315</td>\n",
       "      <td>0</td>\n",
       "      <td>0.015388</td>\n",
       "      <td>2</td>\n",
       "      <td>155.0340</td>\n",
       "      <td>2007</td>\n",
       "      <td>NaN</td>\n",
       "      <td>1</td>\n",
       "      <td>1</td>\n",
       "    </tr>\n",
       "    <tr>\n",
       "      <th>FDY38OUT027</th>\n",
       "      <td>NaN</td>\n",
       "      <td>1</td>\n",
       "      <td>0.118599</td>\n",
       "      <td>5</td>\n",
       "      <td>234.2300</td>\n",
       "      <td>1985</td>\n",
       "      <td>1.0</td>\n",
       "      <td>2</td>\n",
       "      <td>3</td>\n",
       "    </tr>\n",
       "  </tbody>\n",
       "</table>\n",
       "</div>"
      ],
      "text/plain": [
       "             Item_Weight  Item_Fat_Content  Item_Visibility  Item_Type  \\\n",
       "ID                                                                       \n",
       "FDW58OUT049       20.750                 0         0.007565          2   \n",
       "FDW14OUT017        8.300                 3         0.038428          5   \n",
       "NCN55OUT010       14.600                 0         0.099575          0   \n",
       "FDQ58OUT017        7.315                 0         0.015388          2   \n",
       "FDY38OUT027          NaN                 1         0.118599          5   \n",
       "\n",
       "             Item_MRP  Outlet_Establishment_Year  Outlet_Size  \\\n",
       "ID                                                              \n",
       "FDW58OUT049  107.8622                       1999          1.0   \n",
       "FDW14OUT017   87.3198                       2007          NaN   \n",
       "NCN55OUT010  241.7538                       1998          NaN   \n",
       "FDQ58OUT017  155.0340                       2007          NaN   \n",
       "FDY38OUT027  234.2300                       1985          1.0   \n",
       "\n",
       "             Outlet_Location_Type  Outlet_Type  \n",
       "ID                                              \n",
       "FDW58OUT049                     0            1  \n",
       "FDW14OUT017                     1            1  \n",
       "NCN55OUT010                     2            0  \n",
       "FDQ58OUT017                     1            1  \n",
       "FDY38OUT027                     2            3  "
      ]
     },
     "execution_count": 22,
     "metadata": {},
     "output_type": "execute_result"
    }
   ],
   "source": [
    "test.head()"
   ]
  },
  {
   "cell_type": "code",
   "execution_count": 23,
   "metadata": {},
   "outputs": [
    {
     "data": {
      "text/plain": [
       "{'boxes': [<matplotlib.lines.Line2D at 0xe06a51aac8>],\n",
       " 'caps': [<matplotlib.lines.Line2D at 0xe06a52e518>,\n",
       "  <matplotlib.lines.Line2D at 0xe06a52e940>],\n",
       " 'fliers': [<matplotlib.lines.Line2D at 0xe06a5361d0>],\n",
       " 'means': [],\n",
       " 'medians': [<matplotlib.lines.Line2D at 0xe06a52ed68>],\n",
       " 'whiskers': [<matplotlib.lines.Line2D at 0xe06a51ac18>,\n",
       "  <matplotlib.lines.Line2D at 0xe06a52e0f0>]}"
      ]
     },
     "execution_count": 23,
     "metadata": {},
     "output_type": "execute_result"
    },
    {
     "data": {
      "image/png": "[encoded data removed]",
      "text/plain": [
       "<matplotlib.figure.Figure at 0xe06c994d30>"
      ]
     },
     "metadata": {},
     "output_type": "display_data"
    }
   ],
   "source": [
    "plt.boxplot(train['Item_Visibility'])"
   ]
  },
  {
   "cell_type": "code",
   "execution_count": 24,
   "metadata": {},
   "outputs": [],
   "source": [
    "train.loc[train['Item_Visibility']>0.25,'Item_Visibility']=np.mean(train['Item_Visibility'])"
   ]
  },
  {
   "cell_type": "code",
   "execution_count": 25,
   "metadata": {},
   "outputs": [
    {
     "data": {
      "text/plain": [
       "{'boxes': [<matplotlib.lines.Line2D at 0xe06a5bab38>],\n",
       " 'caps': [<matplotlib.lines.Line2D at 0xe06a5c2588>,\n",
       "  <matplotlib.lines.Line2D at 0xe06a5c29b0>],\n",
       " 'fliers': [<matplotlib.lines.Line2D at 0xe06a5cc240>],\n",
       " 'means': [],\n",
       " 'medians': [<matplotlib.lines.Line2D at 0xe06a5c2dd8>],\n",
       " 'whiskers': [<matplotlib.lines.Line2D at 0xe06a5bac88>,\n",
       "  <matplotlib.lines.Line2D at 0xe06a5c2160>]}"
      ]
     },
     "execution_count": 25,
     "metadata": {},
     "output_type": "execute_result"
    },
    {
     "data": {
      "image/png": "[encoded data removed]",
      "text/plain": [
       "<matplotlib.figure.Figure at 0xe06c98bf98>"
      ]
     },
     "metadata": {},
     "output_type": "display_data"
    }
   ],
   "source": [
    "plt.boxplot(train['Item_Outlet_Sales'])"
   ]
  },
  {
   "cell_type": "code",
   "execution_count": 26,
   "metadata": {},
   "outputs": [],
   "source": [
    "train.loc[train['Item_Outlet_Sales']>10000,'Item_Outlet_Sales']=np.mean(train['Item_Outlet_Sales'])"
   ]
  },
  {
   "cell_type": "code",
   "execution_count": 27,
   "metadata": {},
   "outputs": [
    {
     "data": {
      "text/plain": [
       "['Item_Weight', 'Outlet_Size']"
      ]
     },
     "execution_count": 27,
     "metadata": {},
     "output_type": "execute_result"
    }
   ],
   "source": [
    "train.columns[train.isna().any()].tolist()"
   ]
  },
  {
   "cell_type": "code",
   "execution_count": 28,
   "metadata": {},
   "outputs": [
    {
     "data": {
      "text/plain": [
       "['Item_Weight', 'Outlet_Size']"
      ]
     },
     "execution_count": 28,
     "metadata": {},
     "output_type": "execute_result"
    }
   ],
   "source": [
    "test.columns[test.isna().any()].tolist()"
   ]
  },
  {
   "cell_type": "code",
   "execution_count": 29,
   "metadata": {},
   "outputs": [],
   "source": [
    "train['Outlet_Size']=train['Outlet_Size'].ffill().bfill()\n",
    "train['Item_Weight'].fillna(np.mean(train['Item_Weight']),inplace=True)"
   ]
  },
  {
   "cell_type": "code",
   "execution_count": 30,
   "metadata": {},
   "outputs": [
    {
     "data": {
      "text/plain": [
       "[]"
      ]
     },
     "execution_count": 30,
     "metadata": {},
     "output_type": "execute_result"
    }
   ],
   "source": [
    "train.columns[train.isna().any()].tolist()"
   ]
  },
  {
   "cell_type": "code",
   "execution_count": 31,
   "metadata": {},
   "outputs": [],
   "source": [
    "test['Outlet_Size']=test['Outlet_Size'].ffill().bfill()\n",
    "test['Item_Weight'].fillna(np.mean(test['Item_Weight']),inplace=True)"
   ]
  },
  {
   "cell_type": "code",
   "execution_count": 32,
   "metadata": {},
   "outputs": [
    {
     "data": {
      "text/plain": [
       "[]"
      ]
     },
     "execution_count": 32,
     "metadata": {},
     "output_type": "execute_result"
    }
   ],
   "source": [
    "test.columns[test.isna().any()].tolist()"
   ]
  },
  {
   "cell_type": "code",
   "execution_count": 33,
   "metadata": {},
   "outputs": [],
   "source": [
    "x_train=train.drop(['Item_Fat_Content', 'Item_Outlet_Sales'],axis=1)"
   ]
  },
  {
   "cell_type": "code",
   "execution_count": 34,
   "metadata": {},
   "outputs": [],
   "source": [
    "y_train=train['Item_Outlet_Sales']"
   ]
  },
  {
   "cell_type": "code",
   "execution_count": 35,
   "metadata": {},
   "outputs": [],
   "source": [
    "from sklearn.tree import DecisionTreeRegressor"
   ]
  },
  {
   "cell_type": "code",
   "execution_count": 36,
   "metadata": {},
   "outputs": [],
   "source": [
    "reg=DecisionTreeRegressor(min_samples_split=150,min_samples_leaf=20,splitter='random')"
   ]
  },
  {
   "cell_type": "code",
   "execution_count": 37,
   "metadata": {},
   "outputs": [
    {
     "data": {
      "text/plain": [
       "DecisionTreeRegressor(criterion='mse', max_depth=None, max_features=None,\n",
       "           max_leaf_nodes=None, min_impurity_decrease=0.0,\n",
       "           min_impurity_split=None, min_samples_leaf=20,\n",
       "           min_samples_split=150, min_weight_fraction_leaf=0.0,\n",
       "           presort=False, random_state=None, splitter='random')"
      ]
     },
     "execution_count": 37,
     "metadata": {},
     "output_type": "execute_result"
    }
   ],
   "source": [
    "reg.fit(x_train,y_train)"
   ]
  },
  {
   "cell_type": "code",
   "execution_count": 38,
   "metadata": {},
   "outputs": [
    {
     "data": {
      "text/plain": [
       "0.6087355181112694"
      ]
     },
     "execution_count": 38,
     "metadata": {},
     "output_type": "execute_result"
    }
   ],
   "source": [
    "reg.score(x_train,y_train)"
   ]
  },
  {
   "cell_type": "code",
   "execution_count": 39,
   "metadata": {},
   "outputs": [],
   "source": [
    "test=test.drop(['Item_Fat_Content'],axis=1)"
   ]
  },
  {
   "cell_type": "code",
   "execution_count": 40,
   "metadata": {},
   "outputs": [],
   "source": [
    "pred=reg.predict(test)"
   ]
  },
  {
   "cell_type": "code",
   "execution_count": null,
   "metadata": {},
   "outputs": [],
   "source": []
  },
  {
   "cell_type": "code",
   "execution_count": 44,
   "metadata": {},
   "outputs": [
    {
     "name": "stdout",
     "output_type": "stream",
     "text": [
      "             Item_Weight  Item_Fat_Content  Item_Visibility  Item_Type  \\\n",
      "ID                                                                       \n",
      "FDO23OUT013    17.850000                 0         0.146305         11   \n",
      "FDF16OUT013     7.300000                 0         0.086061          4   \n",
      "FDR49OUT018     8.710000                 0         0.139796          6   \n",
      "DRL47OUT049    19.700000                 0         0.000000         12   \n",
      "NCB54OUT049     8.760000                 0         0.050131          8   \n",
      "FDB39OUT035    11.600000                 2         0.038512          5   \n",
      "DRG37OUT013    16.200000                 0         0.019362          9   \n",
      "NCC55OUT018    10.695000                 0         0.064023          3   \n",
      "FDE57OUT049     9.600000                 0         0.036342          1   \n",
      "FDO20OUT013    12.850000                 1         0.152001          1   \n",
      "DRJ01OUT018     6.135000                 4         0.115501          9   \n",
      "FDM51OUT049    11.800000                 1         0.025967         10   \n",
      "FDD40OUT045    20.250000                 1         0.014823          5   \n",
      "NCN19OUT018    13.100000                 0         0.012149          0   \n",
      "NCJ17OUT013     7.680000                 0         0.152430          8   \n",
      "FDU48OUT017    18.850000                 0         0.055672          7   \n",
      "NCN41OUT013    17.000000                 0         0.052166          8   \n",
      "DRL35OUT013    15.700000                 0         0.030678         12   \n",
      "FDC46OUT049    17.700000                 0         0.116724          2   \n",
      "FDB04OUT035    11.350000                 1         0.063214          5   \n",
      "FDD02OUT046    16.600000                 2         0.000000          6   \n",
      "NCX42OUT019    12.857645                 0         0.010468          3   \n",
      "NCB30OUT035    14.600000                 0         0.025698          3   \n",
      "FDW13OUT010     8.500000                 4         0.163839          6   \n",
      "FDP11OUT035    15.850000                 0         0.069087         11   \n",
      "FDY50OUT027    12.857645                 0         0.130322          5   \n",
      "FDR02OUT018    16.700000                 2         0.022156          5   \n",
      "FDB22OUT049     8.020000                 0         0.111614          2   \n",
      "FDO34OUT035    17.700000                 0         0.029933          2   \n",
      "NCQ30OUT010     7.725000                 2         0.048661          3   \n",
      "...                  ...               ...              ...        ...   \n",
      "FDV33OUT045     9.600000                 1         0.027399          2   \n",
      "FDH02OUT013     7.270000                 1         0.020764          6   \n",
      "NCI29OUT035     8.600000                 0         0.032615          8   \n",
      "FDF52OUT035     9.300000                 2         0.066771          4   \n",
      "DRL23OUT045    18.350000                 0         0.015335         12   \n",
      "FDE41OUT045     9.195000                 1         0.064144          4   \n",
      "FDD51OUT019    12.857645                 4         0.210022          5   \n",
      "FDF20OUT027    12.857645                 0         0.033059          1   \n",
      "FDA50OUT035    16.250000                 0         0.087159          5   \n",
      "FDD47OUT046     7.600000                 1         0.142411         13   \n",
      "FDW50OUT017    13.100000                 0         0.076006          5   \n",
      "NCL05OUT027    12.857645                 0         0.047666          8   \n",
      "NCE31OUT017     7.670000                 0         0.185889          3   \n",
      "FDR27OUT018    15.100000                 1         0.096492         10   \n",
      "DRC01OUT027    12.857645                 1         0.019107          9   \n",
      "NCC18OUT049    19.100000                 2         0.177546          3   \n",
      "FDW01OUT035    14.500000                 0         0.064048          6   \n",
      "FDZ31OUT049    15.350000                 1         0.000000          1   \n",
      "FDV57OUT018    15.250000                 1         0.000000          2   \n",
      "DRE27OUT046    11.850000                 0         0.132671          5   \n",
      "NCY18OUT045     7.285000                 0         0.031215          3   \n",
      "NCL19OUT035    15.350000                 0         0.015673          0   \n",
      "FDZ15OUT046    13.100000                 0         0.020871          5   \n",
      "FDJ26OUT046    15.300000                 1         0.084765          6   \n",
      "FDV16OUT035     7.750000                 1         0.082915          4   \n",
      "NCK05OUT017    20.100000                 2         0.077892          8   \n",
      "FDY03OUT027    12.857645                 1         0.075753         10   \n",
      "FDX16OUT045    17.850000                 0         0.065944          4   \n",
      "FDF56OUT045    16.700000                 1         0.119704          1   \n",
      "NCM29OUT010    11.500000                 0         0.029529          8   \n",
      "\n",
      "             Item_MRP  Outlet_Establishment_Year  Outlet_Size  \\\n",
      "ID                                                              \n",
      "FDO23OUT013   94.1436                       1987          2.0   \n",
      "FDF16OUT013  149.8076                       1987          2.0   \n",
      "FDR49OUT018   47.2376                       2009          1.0   \n",
      "DRL47OUT049  125.9362                       1999          1.0   \n",
      "NCB54OUT049  128.3336                       1999          1.0   \n",
      "FDB39OUT035   57.7272                       2004          0.0   \n",
      "DRG37OUT013  154.6972                       1987          2.0   \n",
      "NCC55OUT018   36.0848                       2009          1.0   \n",
      "FDE57OUT049  142.9154                       1999          1.0   \n",
      "FDO20OUT013  252.3382                       1987          2.0   \n",
      "DRJ01OUT018  161.1236                       2009          1.0   \n",
      "FDM51OUT049  102.2674                       1999          1.0   \n",
      "FDD40OUT045  190.7162                       2002          1.0   \n",
      "NCN19OUT018  191.3530                       2009          1.0   \n",
      "NCJ17OUT013   85.5224                       1987          2.0   \n",
      "FDU48OUT017  133.3284                       2007          2.0   \n",
      "NCN41OUT013  125.0730                       1987          2.0   \n",
      "DRL35OUT013   44.7770                       1987          2.0   \n",
      "FDC46OUT049  182.4266                       1999          1.0   \n",
      "FDB04OUT035   88.3856                       2004          0.0   \n",
      "FDD02OUT046  118.8124                       1997          0.0   \n",
      "NCX42OUT019  162.9526                       1985          0.0   \n",
      "NCB30OUT035  196.5084                       2004          0.0   \n",
      "FDW13OUT010   51.3324                       1998          0.0   \n",
      "FDP11OUT035  218.7166                       2004          0.0   \n",
      "FDY50OUT027   88.7172                       1985          1.0   \n",
      "FDR02OUT018  109.5886                       2009          1.0   \n",
      "FDB22OUT049  152.6998                       1999          1.0   \n",
      "FDO34OUT035  169.0816                       2004          0.0   \n",
      "NCQ30OUT010  123.7414                       1998          0.0   \n",
      "...               ...                        ...          ...   \n",
      "FDV33OUT045  258.3304                       2002          1.0   \n",
      "FDH02OUT013   89.0488                       1987          2.0   \n",
      "NCI29OUT035  142.9154                       2004          0.0   \n",
      "FDF52OUT035  180.5292                       2004          0.0   \n",
      "DRL23OUT045  106.6938                       2002          0.0   \n",
      "FDE41OUT045   85.9566                       2002          0.0   \n",
      "FDD51OUT019   44.2744                       1985          0.0   \n",
      "FDF20OUT027  196.4768                       1985          1.0   \n",
      "FDA50OUT035   95.1410                       2004          0.0   \n",
      "FDD47OUT046  171.9448                       1997          0.0   \n",
      "FDW50OUT017  166.1158                       2007          0.0   \n",
      "NCL05OUT027   42.1770                       1985          1.0   \n",
      "NCE31OUT017   35.4216                       2007          1.0   \n",
      "FDR27OUT018  134.4942                       2009          1.0   \n",
      "DRC01OUT027   48.4692                       1985          1.0   \n",
      "NCC18OUT049  172.4422                       1999          1.0   \n",
      "FDW01OUT035  153.4682                       2004          0.0   \n",
      "FDZ31OUT049  193.0504                       1999          1.0   \n",
      "FDV57OUT018  179.7660                       2009          1.0   \n",
      "DRE27OUT046   96.4726                       1997          0.0   \n",
      "NCY18OUT045  177.1054                       2002          0.0   \n",
      "NCL19OUT035  145.0470                       2004          0.0   \n",
      "FDZ15OUT046  117.3782                       1997          0.0   \n",
      "FDJ26OUT046  215.0218                       1997          0.0   \n",
      "FDV16OUT035   34.9558                       2004          0.0   \n",
      "NCK05OUT017   59.3536                       2007          0.0   \n",
      "FDY03OUT027  111.1202                       1985          1.0   \n",
      "FDX16OUT045  149.1050                       2002          1.0   \n",
      "FDF56OUT045  181.9976                       2002          1.0   \n",
      "NCM29OUT010  132.6626                       1998          1.0   \n",
      "\n",
      "             Outlet_Location_Type  Outlet_Type  Item_Outlet_Sales  \n",
      "ID                                                                 \n",
      "FDO23OUT013                     2            1          1607.2412  \n",
      "FDF16OUT013                     2            1          2808.3444  \n",
      "FDR49OUT018                     2            2           910.8144  \n",
      "DRL47OUT049                     0            1          1635.8706  \n",
      "NCB54OUT049                     0            1          2556.6720  \n",
      "FDB39OUT035                     1            1           503.3448  \n",
      "DRG37OUT013                     2            1          1713.7692  \n",
      "NCC55OUT018                     2            2           372.8480  \n",
      "FDE57OUT049                     0            1          3261.7542  \n",
      "FDO20OUT013                     2            1          6056.1168  \n",
      "DRJ01OUT018                     2            2           644.4944  \n",
      "FDM51OUT049                     0            1          2444.8176  \n",
      "FDD40OUT045                     1            1          1154.4972  \n",
      "NCN19OUT018                     2            2          1328.2710  \n",
      "NCJ17OUT013                     2            1          1278.3360  \n",
      "FDU48OUT017                     1            1           263.6568  \n",
      "NCN41OUT013                     2            1          1108.5570  \n",
      "DRL35OUT013                     2            1           605.8780  \n",
      "FDC46OUT049                     0            1          5163.9448  \n",
      "FDB04OUT035                     1            1          1318.2840  \n",
      "FDD02OUT046                     0            1          2607.2728  \n",
      "NCX42OUT019                     0            0           822.2630  \n",
      "NCB30OUT035                     1            1          1587.2672  \n",
      "FDW13OUT010                     2            0           311.5944  \n",
      "FDP11OUT035                     1            1          1088.5830  \n",
      "FDY50OUT027                     2            3          3301.0364  \n",
      "FDR02OUT018                     2            2          1000.6974  \n",
      "FDB22OUT049                     0            1          3383.5956  \n",
      "FDO34OUT035                     1            1          5201.2296  \n",
      "NCQ30OUT010                     2            0           121.8414  \n",
      "...                           ...          ...                ...  \n",
      "FDV33OUT045                     1            1          4133.2864  \n",
      "FDH02OUT013                     2            1           181.0976  \n",
      "NCI29OUT035                     1            1           992.7078  \n",
      "FDF52OUT035                     1            1          2189.1504  \n",
      "DRL23OUT045                     1            1          1393.5194  \n",
      "FDE41OUT045                     1            1          1691.1320  \n",
      "FDD51OUT019                     0            0            90.5488  \n",
      "FDF20OUT027                     2            3          6306.4576  \n",
      "FDA50OUT035                     1            1          2220.4430  \n",
      "FDD47OUT046                     0            1          3749.7856  \n",
      "FDW50OUT017                     1            1          1169.8106  \n",
      "NCL05OUT027                     2            3          1255.0330  \n",
      "NCE31OUT017                     1            1           173.1080  \n",
      "FDR27OUT018                     2            2          1854.9188  \n",
      "DRC01OUT027                     2            3          1034.6532  \n",
      "NCC18OUT049                     0            1          3621.2862  \n",
      "FDW01OUT035                     1            1          1677.1502  \n",
      "FDZ31OUT049                     0            1          2492.7552  \n",
      "FDV57OUT018                     2            2          3056.0220  \n",
      "DRE27OUT046                     0            1           978.7260  \n",
      "NCY18OUT045                     1            1          2626.5810  \n",
      "NCL19OUT035                     1            1          2719.7930  \n",
      "FDZ15OUT046                     0            1          1787.6730  \n",
      "FDJ26OUT046                     0            1          1923.4962  \n",
      "FDV16OUT035                     1            1           645.1602  \n",
      "NCK05OUT017                     1            1           918.8040  \n",
      "FDY03OUT027                     2            3          3150.5656  \n",
      "FDX16OUT045                     1            1          4643.9550  \n",
      "FDF56OUT045                     1            1          5432.9280  \n",
      "NCM29OUT010                     2            0           262.3252  \n",
      "\n",
      "[8523 rows x 10 columns]\n"
     ]
    }
   ],
   "source": [
    "print(train)"
   ]
  },
  {
   "cell_type": "code",
   "execution_count": 47,
   "metadata": {},
   "outputs": [],
   "source": [
    "results={'ID':test.index,'Item_Outlet_Sales':pred,'Item_type':i_type}"
   ]
  },
  {
   "cell_type": "code",
   "execution_count": 48,
   "metadata": {},
   "outputs": [],
   "source": [
    "output=pd.DataFrame(results)"
   ]
  },
  {
   "cell_type": "code",
   "execution_count": 49,
   "metadata": {},
   "outputs": [],
   "source": [
    "output.to_csv('output.csv',index=False)"
   ]
  },
  {
   "cell_type": "code",
   "execution_count": null,
   "metadata": {},
   "outputs": [],
   "source": []
  },
  {
   "cell_type": "code",
   "execution_count": null,
   "metadata": {},
   "outputs": [],
   "source": []
  },
  {
   "cell_type": "code",
   "execution_count": null,
   "metadata": {},
   "outputs": [],
   "source": []
  },
  {
   "cell_type": "code",
   "execution_count": null,
   "metadata": {},
   "outputs": [],
   "source": []
  }
 ],
 "metadata": {
  "kernelspec": {
   "display_name": "Python 3",
   "language": "python",
   "name": "python3"
  },
  "language_info": {
   "codemirror_mode": {
    "name": "ipython",
    "version": 3
   },
   "file_extension": ".py",
   "mimetype": "text/x-python",
   "name": "python",
   "nbconvert_exporter": "python",
   "pygments_lexer": "ipython3",
   "version": "3.6.4"
  }
 },
 "nbformat": 4,
 "nbformat_minor": 2
}
